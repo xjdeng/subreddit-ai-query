{
  "nbformat": 4,
  "nbformat_minor": 0,
  "metadata": {
    "colab": {
      "provenance": [],
      "authorship_tag": "ABX9TyOkTdLCEPlYfksl2aO7gaW9",
      "include_colab_link": true
    },
    "kernelspec": {
      "name": "python3",
      "display_name": "Python 3"
    },
    "language_info": {
      "name": "python"
    }
  },
  "cells": [
    {
      "cell_type": "markdown",
      "metadata": {
        "id": "view-in-github",
        "colab_type": "text"
      },
      "source": [
        "<a href=\"https://colab.research.google.com/github/xjdeng/subreddit-ai-query/blob/main/ai_query_subreddit.ipynb\" target=\"_parent\"><img src=\"https://colab.research.google.com/assets/colab-badge.svg\" alt=\"Open In Colab\"/></a>"
      ]
    },
    {
      "cell_type": "code",
      "execution_count": null,
      "metadata": {
        "id": "ctDCkz0vrUZT"
      },
      "outputs": [],
      "source": [
        "!pip install praw path.py==12.0.1"
      ]
    },
    {
      "cell_type": "code",
      "source": [
        "import praw\n",
        "from google.colab import userdata\n",
        "import time\n",
        "import google.generativeai as genai\n",
        "import pprint\n",
        "import json\n",
        "from path import Path as path\n"
      ],
      "metadata": {
        "id": "LJKKxkdjtG8S"
      },
      "execution_count": null,
      "outputs": []
    },
    {
      "cell_type": "code",
      "source": [
        "client_id = userdata.get(\"reddit_client_id\") #Set up Reddit Credentials, see video: https://www.youtube.com/watch?v=VAJFZEeKjSY\n",
        "assert client_id is not None\n",
        "client_secret = userdata.get(\"reddit_client_secret\")\n",
        "assert client_secret is not None\n",
        "username = userdata.get(\"reddit_username\")\n",
        "assert username is not None\n",
        "password = userdata.get(\"reddit_password\")\n",
        "assert password is not None\n",
        "app_name = userdata.get(\"reddit_app\")\n",
        "reddit = praw.Reddit(client_id=client_id,\n",
        "                     client_secret=client_secret,\n",
        "                     user_agent=app_name,\n",
        "                     username=username, \\\n",
        "                     password=password, check_for_async=False)\n",
        "GOOGLE_API_KEY=userdata.get('GOOGLE_API_KEY') #Set up Gemini Credentials, see video: https://www.youtube.com/watch?v=S1elvCs1gyI\n",
        "genai.configure(api_key=GOOGLE_API_KEY)\n",
        "model = genai.GenerativeModel(\"gemini-1.5-flash-latest\")\n",
        "\n"
      ],
      "metadata": {
        "id": "lhTCnMLttOTR"
      },
      "execution_count": null,
      "outputs": []
    },
    {
      "cell_type": "code",
      "source": [
        "def get_posts(sub, subreddit_query=None, LIMIT=100, time_filter=\"year\", score_cutoff=5, comments_cutoff=5):\n",
        "    subreddit = reddit.subreddit(sub)\n",
        "\n",
        "    if subreddit_query:\n",
        "        # Perform a search in the subreddit\n",
        "        search_results = list(subreddit.search(subreddit_query, sort='relevance', time_filter=time_filter, limit=LIMIT))\n",
        "        allposts = search_results\n",
        "    else:\n",
        "        # Default behavior: Fetch hot, top, and new posts\n",
        "        hot = list(subreddit.hot(limit=LIMIT))\n",
        "        top = list(subreddit.top(time_filter=time_filter, limit=LIMIT))\n",
        "        recent = list(subreddit.new(limit=LIMIT))\n",
        "        allposts = list(set(hot + top + recent))\n",
        "\n",
        "    # Filter posts based on score and number of comments\n",
        "    allposts = [post for post in allposts if post.score >= score_cutoff and len(post.comments) > comments_cutoff]\n",
        "    return allposts\n",
        "\n",
        "def get_comments(post, LIMIT=50):\n",
        "    post.comments.replace_more(limit=0)  # Avoid excessive calls for nested comments\n",
        "    comments = [comment.body for comment in post.comments[:LIMIT]]\n",
        "    return comments\n",
        "\n",
        "def pipeline(subreddit_name, subreddit_query = None, postlimit = 100, post_score_cutoff = 5, min_comments = 5, max_comments = 50):\n",
        "  posts = get_posts(subreddit_name, subreddit_query = subreddit_query, LIMIT=postlimit, score_cutoff = post_score_cutoff, comments_cutoff = min_comments)\n",
        "  data = []\n",
        "  for post in posts:\n",
        "      comments = get_comments(post, LIMIT=max_comments)  # Adjust comment limit as needed\n",
        "      data.append({\n",
        "          'title': post.title,\n",
        "          'body': post.selftext,\n",
        "          'score': post.score,\n",
        "          'comments': comments\n",
        "      })\n",
        "      time.sleep(2)\n",
        "  return data\n"
      ],
      "metadata": {
        "id": "oP_MgeiWxsk6"
      },
      "execution_count": null,
      "outputs": []
    },
    {
      "cell_type": "code",
      "source": [
        "def query_subreddit(query, subreddit, subreddit_query = None, *args, **kwargs):\n",
        "  if subreddit_query:\n",
        "    jsonfile = f\"{subreddit}-{subreddit_query}.jsonl\"\n",
        "  else:\n",
        "    jsonfile = f\"{subreddit}.jsonl\"\n",
        "  if not path(jsonfile).exists():\n",
        "    data = pipeline(subreddit, subreddit_query, *args, **kwargs)\n",
        "    json.dump(data, open(jsonfile, \"w\"))\n",
        "  else:\n",
        "    data = json.load(open(jsonfile))\n",
        "  prompt = f\"\"\"\n",
        "\n",
        "  I'd like to ask a question to the following subreddit: /r/{subreddit}\n",
        "\n",
        "  Here's the question:\n",
        "  ---\n",
        "  {query}\n",
        "  ---\n",
        "\n",
        "  Do not download data from Internet, instead, formulate your answer using the following data that I've downloaded from the subreddit:\n",
        "  ---\n",
        "  {data}\n",
        "  ---\n",
        "  \"\"\"\n",
        "  response = model.generate_content(prompt)\n",
        "  return response.text\n"
      ],
      "metadata": {
        "id": "uzFWJ6tT6UKD"
      },
      "execution_count": null,
      "outputs": []
    },
    {
      "cell_type": "code",
      "source": [
        "query = \"\"\"\n",
        "What are examples of good jobs for INTPs?\n",
        "\"\"\"\n",
        "\n",
        "pprint.pprint(query_subreddit(query,\"INTP\"))"
      ],
      "metadata": {
        "id": "PS33m-5nOzId"
      },
      "execution_count": null,
      "outputs": []
    },
    {
      "cell_type": "code",
      "source": [],
      "metadata": {
        "id": "yFDu82eeO5fc"
      },
      "execution_count": null,
      "outputs": []
    }
  ]
}